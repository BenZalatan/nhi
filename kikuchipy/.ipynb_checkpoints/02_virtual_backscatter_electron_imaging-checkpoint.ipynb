{
 "cells": [
  {
   "cell_type": "markdown",
   "metadata": {},
   "source": [
    "# Introduction\n",
    "\n",
    "This tutorial demonstrates angle resolved virtual backscatter electron\n",
    "(BSE) imaging via signal extraction from raw electron backscatter diffraction\n",
    "(EBSD) patterns.\n",
    "\n",
    "For learning purposes, we recommend to use this notebook alongside our [user\n",
    "guide](https://kikuchipy.org).\n",
    "\n",
    "The data consists of 29 800 EBSD patterns from recrystallized polycrystalline\n",
    "Nickel. It is available [via Zenodo](https://zenodo.org/record/3265037).\n",
    "\n",
    "This functionality has been checked to run in kikuchipy-0.2.0 (May 2020). Bugs\n",
    "are always possible, do not trust the code blindly, and if you experience any\n",
    "issues, report them [in our issue\n",
    "tracker](https://github.com/kikuchipy/kikuchipy-demos/issues).\n",
    "\n",
    "Access all methods' documentation (docstrings) when the cursor is within the\n",
    "function parantheses, like `function(CURSOR HERE)`, by holding `SHIFT` and\n",
    "pressing `TAB`.\n",
    "\n",
    "# Contents\n",
    "\n",
    "1. [Loading and data inspection](#1)\n",
    "2. [Background correction](#2)\n",
    "3. [Interactive plotting](#3)  \n",
    "    1. [Imaging](#3.1)  \n",
    "    2. [Select a data region](#3.2)\n",
    "4. [Multiple images from detector grid tiles](#4)\n",
    "5. [RGB images](#5)  \n",
    "    1. [From detector grid tiles](#5.1)  \n",
    "    2. [From Gaussian fitting parameters](#5.2)\n",
    "\n",
    "Set the interactive [Matplotlib backend](https://matplotlib.org/3.2.1/tutorials/introductory/usage.html#backends)\n",
    "(`%matplotlib qt5`), import kikuchipy and other necessary libraries"
   ]
  },
  {
   "cell_type": "code",
   "execution_count": 1,
   "metadata": {},
   "outputs": [],
   "source": [
    "%matplotlib qt5\n",
    "import hyperspy.api as hs\n",
    "import matplotlib.pyplot as plt\n",
    "import numpy as np\n",
    "import kikuchipy as kp"
   ]
  },
  {
   "cell_type": "markdown",
   "metadata": {},
   "source": [
    "# 1. Loading and data inspection <a class=\"anchor\" id=\"1\"></a>\n",
    "\n",
    "Load the EBSD data"
   ]
  },
  {
   "cell_type": "code",
   "execution_count": 2,
   "metadata": {},
   "outputs": [],
   "source": [
    "data = \"/Volumes/MBPe_15_Data/docs/school/Lehigh/jobs/NHI/working/EBSD/nickel_scan_gain/scan1_gain0db/Pattern.dat\"\n",
    "s = kp.load(data, lazy=False)  # lazy=True to not load into memory before calling s.compute()"
   ]
  },
  {
   "cell_type": "markdown",
   "metadata": {},
   "source": [
    "Create a copy of the raw patterns for part 5.B."
   ]
  },
  {
   "cell_type": "code",
   "execution_count": 3,
   "metadata": {},
   "outputs": [],
   "source": [
    "s0 = s.deepcopy()"
   ]
  },
  {
   "cell_type": "markdown",
   "metadata": {},
   "source": [
    "Inspect the metadata"
   ]
  },
  {
   "cell_type": "code",
   "execution_count": 4,
   "metadata": {},
   "outputs": [
    {
     "data": {
      "text/plain": [
       "├── Acquisition_instrument\n",
       "│   └── SEM\n",
       "│       ├── Detector\n",
       "│       │   └── EBSD\n",
       "│       │       ├── azimuth_angle = 0.0\n",
       "│       │       ├── binning = -1.0\n",
       "│       │       ├── detector = NORDIF UF1100\n",
       "│       │       ├── elevation_angle = 0.0\n",
       "│       │       ├── exposure_time = 0.0035\n",
       "│       │       ├── frame_number = -1\n",
       "│       │       ├── frame_rate = 202\n",
       "│       │       ├── gain = 0.0\n",
       "│       │       ├── grid_type = square\n",
       "│       │       ├── manufacturer = NORDIF\n",
       "│       │       ├── sample_tilt = 70.0\n",
       "│       │       ├── scan_time = 148\n",
       "│       │       ├── static_background = array([[84, 87, 90, ..., 27, 29, 30],\n",
       "       [87, 90, 93, ..., 27, 28, 30],\n",
       "   ...  80, 82, ..., 28, 26, 26],\n",
       "       [76, 78, 80, ..., 26, 26, 25]], dtype=uint8)\n",
       "│       │       ├── version = 3.1.2\n",
       "│       │       ├── xpc = -1.0\n",
       "│       │       ├── ypc = -1.0\n",
       "│       │       └── zpc = -1.0\n",
       "│       ├── beam_energy = 20.0\n",
       "│       ├── magnification = 200\n",
       "│       ├── microscope = Hitachi SU-6600\n",
       "│       └── working_distance = 24.7\n",
       "├── General\n",
       "│   ├── original_filename = /Volumes/MBPe_15_Data/docs/school/Lehigh/jobs/NHI/working/EBSD/nickel_scan_gain/scan1_gain0db/Pattern.dat\n",
       "│   └── title = Pattern\n",
       "├── Sample\n",
       "│   └── Phases\n",
       "│       └── 1\n",
       "│           ├── atom_coordinates\n",
       "│           │   └── 1\n",
       "│           │       ├── atom = \n",
       "│           │       ├── coordinates = array([0., 0., 0.])\n",
       "│           │       ├── debye_waller_factor = 0.0\n",
       "│           │       └── site_occupation = 0.0\n",
       "│           ├── formula = \n",
       "│           ├── info = \n",
       "│           ├── lattice_constants = array([0., 0., 0., 0., 0., 0.])\n",
       "│           ├── laue_group = \n",
       "│           ├── material_name = Ni\n",
       "│           ├── point_group = \n",
       "│           ├── setting = 0\n",
       "│           ├── source = \n",
       "│           ├── space_group = 0\n",
       "│           └── symmetry = 0\n",
       "└── Signal\n",
       "    ├── binned = False\n",
       "    └── signal_type = EBSD"
      ]
     },
     "execution_count": 4,
     "metadata": {},
     "output_type": "execute_result"
    }
   ],
   "source": [
    "s.metadata"
   ]
  },
  {
   "cell_type": "markdown",
   "metadata": {},
   "source": [
    "Inspect the signal (detector) and navigation (sample) axes"
   ]
  },
  {
   "cell_type": "code",
   "execution_count": 5,
   "metadata": {},
   "outputs": [
    {
     "data": {
      "text/html": [
       "<style>\n",
       "table, th, td {\n",
       "\tborder: 1px solid black;\n",
       "\tborder-collapse: collapse;\n",
       "}\n",
       "th, td {\n",
       "\tpadding: 5px;\n",
       "}\n",
       "</style>\n",
       "<p><b>< Axes manager, axes: (200, 149|60, 60) ></b></p>\n",
       "<table style='width:100%'>\n",
       "\n",
       "<tr> \n",
       "<th>Navigation axis name</th> \n",
       "<th>size</th> \n",
       "<th>index</th> \n",
       "<th>offset</th> \n",
       "<th>scale</th> \n",
       "<th>units</th> </tr>\n",
       "<tr> \n",
       "<td>x</td> \n",
       "<td>200</td> \n",
       "<td>0</td> \n",
       "<td>0.0</td> \n",
       "<td>1.5</td> \n",
       "<td>um</td> </tr>\n",
       "<tr> \n",
       "<td>y</td> \n",
       "<td>149</td> \n",
       "<td>0</td> \n",
       "<td>0.0</td> \n",
       "<td>1.5</td> \n",
       "<td>um</td> </tr></table>\n",
       "<table style='width:100%'>\n",
       "\n",
       "<tr> \n",
       "<th>Signal axis name</th> \n",
       "<th>size</th> \n",
       "<th>offset</th> \n",
       "<th>scale</th> \n",
       "<th>units</th> </tr>\n",
       "<tr> \n",
       "<td>dx</td> \n",
       "<td>60</td> \n",
       "<td>0.0</td> \n",
       "<td>1.0</td> \n",
       "<td>um</td> </tr>\n",
       "<tr> \n",
       "<td>dy</td> \n",
       "<td>60</td> \n",
       "<td>0.0</td> \n",
       "<td>1.0</td> \n",
       "<td>um</td> </tr></table>\n"
      ],
      "text/plain": [
       "<Axes manager, axes: (200, 149|60, 60)>\n",
       "            Name |   size |  index |  offset |   scale |  units \n",
       "================ | ====== | ====== | ======= | ======= | ====== \n",
       "               x |    200 |      0 |       0 |     1.5 |     um \n",
       "               y |    149 |      0 |       0 |     1.5 |     um \n",
       "---------------- | ------ | ------ | ------- | ------- | ------ \n",
       "              dx |     60 |        |       0 |       1 |     um \n",
       "              dy |     60 |        |       0 |       1 |     um "
      ]
     },
     "execution_count": 5,
     "metadata": {},
     "output_type": "execute_result"
    }
   ],
   "source": [
    "s.axes_manager"
   ]
  },
  {
   "cell_type": "markdown",
   "metadata": {},
   "source": [
    "Plot the patterns"
   ]
  },
  {
   "cell_type": "code",
   "execution_count": 6,
   "metadata": {},
   "outputs": [],
   "source": [
    "s.plot()"
   ]
  },
  {
   "cell_type": "markdown",
   "metadata": {},
   "source": [
    "# 2. Background correction <a class=\"anchor\" id=\"2\"></a>"
   ]
  },
  {
   "cell_type": "markdown",
   "metadata": {},
   "source": [
    "Remove the static background while keeping retain the relative intensities, thus\n",
    "retaining the variation in the the backscatter electron yield from sample point\n",
    "to sample point"
   ]
  },
  {
   "cell_type": "code",
   "execution_count": 7,
   "metadata": {},
   "outputs": [
    {
     "name": "stdout",
     "output_type": "stream",
     "text": [
      "Removing the static background:\n",
      "[########################################] | 100% Completed |  4.1s\n"
     ]
    }
   ],
   "source": [
    "s.remove_static_background(relative=True)"
   ]
  },
  {
   "cell_type": "markdown",
   "metadata": {},
   "source": [
    "# 3. Interactive plotting <a class=\"anchor\" id=\"3\"></a>"
   ]
  },
  {
   "cell_type": "markdown",
   "metadata": {},
   "source": [
    "## 3.1 Imaging <a class=\"anchor\" id=\"3.1\"></a>"
   ]
  },
  {
   "cell_type": "markdown",
   "metadata": {},
   "source": [
    "Plot an interactive virtual image by integrating the intensities within a rectangular subset of pixels on the detector"
   ]
  },
  {
   "cell_type": "code",
   "execution_count": 8,
   "metadata": {},
   "outputs": [],
   "source": [
    "roi = hs.roi.RectangularROI(left=0, top=0, right=10, bottom=10)"
   ]
  },
  {
   "cell_type": "code",
   "execution_count": 9,
   "metadata": {},
   "outputs": [],
   "source": [
    "s.plot_virtual_bse_intensity(roi)"
   ]
  },
  {
   "cell_type": "markdown",
   "metadata": {},
   "source": [
    "Get the virtual BSE image associated with the last integration window used interactively"
   ]
  },
  {
   "cell_type": "code",
   "execution_count": 10,
   "metadata": {},
   "outputs": [],
   "source": [
    "vbse = s.get_virtual_bse_intensity(roi)"
   ]
  },
  {
   "cell_type": "code",
   "execution_count": 11,
   "metadata": {},
   "outputs": [
    {
     "data": {
      "text/plain": [
       "<VirtualBSEImage, title: Virtual backscatter electron image, dimensions: (|200, 149)>"
      ]
     },
     "execution_count": 11,
     "metadata": {},
     "output_type": "execute_result"
    }
   ],
   "source": [
    "vbse"
   ]
  },
  {
   "cell_type": "markdown",
   "metadata": {},
   "source": [
    "Plot the virtual BSE image"
   ]
  },
  {
   "cell_type": "code",
   "execution_count": 12,
   "metadata": {},
   "outputs": [],
   "source": [
    "vbse.plot()"
   ]
  },
  {
   "cell_type": "markdown",
   "metadata": {},
   "source": [
    "Inspect the metadata"
   ]
  },
  {
   "cell_type": "code",
   "execution_count": 13,
   "metadata": {},
   "outputs": [
    {
     "data": {
      "text/plain": [
       "├── Acquisition_instrument\n",
       "│   └── SEM\n",
       "│       ├── Detector\n",
       "│       │   └── EBSD\n",
       "│       │       ├── azimuth_angle = 0.0\n",
       "│       │       ├── binning = -1.0\n",
       "│       │       ├── detector = NORDIF UF1100\n",
       "│       │       ├── elevation_angle = 0.0\n",
       "│       │       ├── exposure_time = 0.0035\n",
       "│       │       ├── frame_number = -1\n",
       "│       │       ├── frame_rate = 202\n",
       "│       │       ├── gain = 0.0\n",
       "│       │       ├── grid_type = square\n",
       "│       │       ├── manufacturer = NORDIF\n",
       "│       │       ├── sample_tilt = 70.0\n",
       "│       │       ├── scan_time = 148\n",
       "│       │       ├── static_background = array([[84, 87, 90, ..., 27, 29, 30],\n",
       "       [87, 90, 93, ..., 27, 28, 30],\n",
       "   ...  80, 82, ..., 28, 26, 26],\n",
       "       [76, 78, 80, ..., 26, 26, 25]], dtype=uint8)\n",
       "│       │       ├── version = 3.1.2\n",
       "│       │       ├── xpc = -1.0\n",
       "│       │       ├── ypc = -1.0\n",
       "│       │       └── zpc = -1.0\n",
       "│       ├── beam_energy = 20.0\n",
       "│       ├── magnification = 200\n",
       "│       ├── microscope = Hitachi SU-6600\n",
       "│       └── working_distance = 24.7\n",
       "├── General\n",
       "│   ├── original_filename = /Volumes/MBPe_15_Data/docs/school/Lehigh/jobs/NHI/working/EBSD/nickel_scan_gain/scan1_gain0db/Pattern.dat\n",
       "│   └── title = Virtual backscatter electron image\n",
       "├── Sample\n",
       "│   └── Phases\n",
       "│       └── 1\n",
       "│           ├── atom_coordinates\n",
       "│           │   └── 1\n",
       "│           │       ├── atom = \n",
       "│           │       ├── coordinates = array([0., 0., 0.])\n",
       "│           │       ├── debye_waller_factor = 0.0\n",
       "│           │       └── site_occupation = 0.0\n",
       "│           ├── formula = \n",
       "│           ├── info = \n",
       "│           ├── lattice_constants = array([0., 0., 0., 0., 0., 0.])\n",
       "│           ├── laue_group = \n",
       "│           ├── material_name = Ni\n",
       "│           ├── point_group = \n",
       "│           ├── setting = 0\n",
       "│           ├── source = \n",
       "│           ├── space_group = 0\n",
       "│           └── symmetry = 0\n",
       "└── Signal\n",
       "    ├── binned = False\n",
       "    └── signal_type = VirtualBSEImage"
      ]
     },
     "execution_count": 13,
     "metadata": {},
     "output_type": "execute_result"
    }
   ],
   "source": [
    "vbse.metadata"
   ]
  },
  {
   "cell_type": "markdown",
   "metadata": {},
   "source": [
    "Save the virtual BSE image as a 32-bit TIFF file"
   ]
  },
  {
   "cell_type": "code",
   "execution_count": 14,
   "metadata": {},
   "outputs": [],
   "source": [
    "vbse.change_dtype(np.float32)"
   ]
  },
  {
   "cell_type": "code",
   "execution_count": 15,
   "metadata": {},
   "outputs": [],
   "source": [
    "vbse.save(\"vbse1.tif\")"
   ]
  },
  {
   "cell_type": "markdown",
   "metadata": {},
   "source": [
    "## 3.2 Select a data region <a class=\"anchor\" id=\"3.2\"></a>"
   ]
  },
  {
   "cell_type": "markdown",
   "metadata": {},
   "source": [
    "Plot the data with an adjustable marker indicating where to crop the data region"
   ]
  },
  {
   "cell_type": "code",
   "execution_count": 16,
   "metadata": {},
   "outputs": [
    {
     "data": {
      "text/plain": [
       "<hyperspy.drawing._widgets.rectangles.RectangleWidget at 0x1065a4850>"
      ]
     },
     "execution_count": 16,
     "metadata": {},
     "output_type": "execute_result"
    }
   ],
   "source": [
    "reg = hs.roi.RectangularROI(left=0, top=0, right=10, bottom=10)\n",
    "s.plot()\n",
    "reg.add_widget(s)"
   ]
  },
  {
   "cell_type": "markdown",
   "metadata": {},
   "source": [
    "Crop the data set based on the region defined above"
   ]
  },
  {
   "cell_type": "code",
   "execution_count": 17,
   "metadata": {},
   "outputs": [],
   "source": [
    "s2 = reg(s)"
   ]
  },
  {
   "cell_type": "markdown",
   "metadata": {},
   "source": [
    "Calculate the mean diffraction pattern from the selected region"
   ]
  },
  {
   "cell_type": "code",
   "execution_count": 18,
   "metadata": {},
   "outputs": [],
   "source": [
    "s2_mean = s2.mean(axis=(0, 1))"
   ]
  },
  {
   "cell_type": "markdown",
   "metadata": {},
   "source": [
    "Plot the mean diffraction pattern from the selected region"
   ]
  },
  {
   "cell_type": "code",
   "execution_count": 19,
   "metadata": {},
   "outputs": [],
   "source": [
    "s2_mean.plot()"
   ]
  },
  {
   "cell_type": "markdown",
   "metadata": {},
   "source": [
    "# 4. Multiple images from detector grid tiles <a class=\"anchor\" id=\"4\"></a>"
   ]
  },
  {
   "cell_type": "markdown",
   "metadata": {},
   "source": [
    "Initialize a VirtualBSEImageGenerator"
   ]
  },
  {
   "cell_type": "code",
   "execution_count": 20,
   "metadata": {},
   "outputs": [],
   "source": [
    "vbse_gen = kp.generators.VirtualBSEGenerator(s)"
   ]
  },
  {
   "cell_type": "code",
   "execution_count": 21,
   "metadata": {},
   "outputs": [
    {
     "data": {
      "text/plain": [
       "VirtualBSEGenerator for <EBSD, title: Pattern, dimensions: (200, 149|60, 60)>"
      ]
     },
     "execution_count": 21,
     "metadata": {},
     "output_type": "execute_result"
    }
   ],
   "source": [
    "vbse_gen"
   ]
  },
  {
   "cell_type": "markdown",
   "metadata": {},
   "source": [
    "Inspect the generator detector grid"
   ]
  },
  {
   "cell_type": "code",
   "execution_count": 22,
   "metadata": {},
   "outputs": [
    {
     "data": {
      "text/plain": [
       "(5, 5)"
      ]
     },
     "execution_count": 22,
     "metadata": {},
     "output_type": "execute_result"
    }
   ],
   "source": [
    "vbse_gen.grid_shape"
   ]
  },
  {
   "cell_type": "code",
   "execution_count": 23,
   "metadata": {},
   "outputs": [
    {
     "data": {
      "text/plain": [
       "<EBSD, title: Pattern, dimensions: (|60, 60)>"
      ]
     },
     "execution_count": 23,
     "metadata": {},
     "output_type": "execute_result"
    }
   ],
   "source": [
    "vbse_gen.plot_grid(visible_indices=True, color=\"r\")  # Default"
   ]
  },
  {
   "cell_type": "markdown",
   "metadata": {},
   "source": [
    "Change the grid shape"
   ]
  },
  {
   "cell_type": "code",
   "execution_count": 24,
   "metadata": {},
   "outputs": [],
   "source": [
    "vbse_gen.grid_shape = (7, 7)"
   ]
  },
  {
   "cell_type": "markdown",
   "metadata": {},
   "source": [
    "Compute one virtual BSE image per detector grid tile"
   ]
  },
  {
   "cell_type": "code",
   "execution_count": 25,
   "metadata": {},
   "outputs": [],
   "source": [
    "vbse_grid_images = vbse_gen.get_images_from_grid()"
   ]
  },
  {
   "cell_type": "code",
   "execution_count": 26,
   "metadata": {},
   "outputs": [
    {
     "data": {
      "text/plain": [
       "<VirtualBSEImage, title: , dimensions: (7, 7|200, 149)>"
      ]
     },
     "execution_count": 26,
     "metadata": {},
     "output_type": "execute_result"
    }
   ],
   "source": [
    "vbse_grid_images"
   ]
  },
  {
   "cell_type": "markdown",
   "metadata": {},
   "source": [
    "Plot the virtual BSE images"
   ]
  },
  {
   "cell_type": "code",
   "execution_count": 27,
   "metadata": {},
   "outputs": [
    {
     "name": "stderr",
     "output_type": "stream",
     "text": [
      "Traceback (most recent call last):\n",
      "  File \"/usr/local/lib/python3.8/site-packages/matplotlib/cbook/__init__.py\", line 196, in process\n",
      "    func(*args, **kwargs)\n",
      "  File \"/usr/local/lib/python3.8/site-packages/hyperspy/drawing/utils.py\", line 172, in function_wrapper\n",
      "    function()\n",
      "  File \"/usr/local/lib/python3.8/site-packages/hyperspy/drawing/figure.py\", line 107, in _on_close\n",
      "    self.events.closed.trigger(obj=self)\n",
      "  File \"<string>\", line 4, in trigger\n",
      "  File \"/usr/local/lib/python3.8/site-packages/hyperspy/events.py\", line 402, in trigger\n",
      "    function(**{kw: kwargs.get(kw, None) for kw in kwsl})\n",
      "  File \"/usr/local/lib/python3.8/site-packages/hyperspy/signal.py\", line 2133, in <lambda>\n",
      "    lambda: self.events.data_changed.disconnect(self.update_plot),\n",
      "  File \"/usr/local/lib/python3.8/site-packages/hyperspy/events.py\", line 372, in disconnect\n",
      "    raise ValueError(\"The %s function is not connected to %s.\" %\n",
      "ValueError: The <bound method BaseSignal.update_plot of <VirtualBSEImage, title: Virtual backscatter electron image, dimensions: (|200, 149)>> function is not connected to <hyperspy.events.Event: Event that triggers when the data has changed: set()>.\n"
     ]
    }
   ],
   "source": [
    "vbse_grid_images.plot()"
   ]
  },
  {
   "cell_type": "markdown",
   "metadata": {},
   "source": [
    "Rescale image intensities to between [-1, 1] before saving"
   ]
  },
  {
   "cell_type": "code",
   "execution_count": null,
   "metadata": {},
   "outputs": [],
   "source": [
    "vbse_grid_images.rescale_intensity()\n",
    "\n",
    "# Contrast stretching\n",
    "#vbse_grid_images.rescale_intensity(percentiles=(0.5, 99.5))  "
   ]
  },
  {
   "cell_type": "markdown",
   "metadata": {},
   "source": [
    "Save the BSE images as a 32-bit TIFF stack"
   ]
  },
  {
   "cell_type": "code",
   "execution_count": null,
   "metadata": {},
   "outputs": [],
   "source": [
    "vbse_grid_images.unfold_navigation_space()"
   ]
  },
  {
   "cell_type": "code",
   "execution_count": null,
   "metadata": {},
   "outputs": [],
   "source": [
    "vbse_grid_images"
   ]
  },
  {
   "cell_type": "code",
   "execution_count": null,
   "metadata": {},
   "outputs": [],
   "source": [
    "vbse_grid_images.save(\"vbse2.tif\")"
   ]
  },
  {
   "cell_type": "markdown",
   "metadata": {},
   "source": [
    "# 5. RGB images <a class=\"anchor\" id=\"5\"></a>"
   ]
  },
  {
   "cell_type": "markdown",
   "metadata": {},
   "source": [
    "## 5.1 From detector grid tiles <a class=\"anchor\" id=\"5.1\"></a>"
   ]
  },
  {
   "cell_type": "markdown",
   "metadata": {},
   "source": [
    "Create an RGB image by coloring images produced from intensities within three\n",
    "grid tiles by coloring them red, green and blue"
   ]
  },
  {
   "cell_type": "code",
   "execution_count": null,
   "metadata": {},
   "outputs": [],
   "source": [
    "red = (6, 1)\n",
    "green = (6, 3)\n",
    "blue = (6, 5)\n",
    "vbse_rgb_image = vbse_gen.get_rgb_image(r=red, g=green, b=blue)"
   ]
  },
  {
   "cell_type": "code",
   "execution_count": null,
   "metadata": {},
   "outputs": [],
   "source": [
    "vbse_rgb_image"
   ]
  },
  {
   "cell_type": "markdown",
   "metadata": {},
   "source": [
    "Plot the RGB image"
   ]
  },
  {
   "cell_type": "code",
   "execution_count": null,
   "metadata": {},
   "outputs": [],
   "source": [
    "vbse_rgb_image.plot()"
   ]
  },
  {
   "cell_type": "markdown",
   "metadata": {},
   "source": [
    "Plot the grid again, coloring the tiles used to produce the RGB image"
   ]
  },
  {
   "cell_type": "code",
   "execution_count": null,
   "metadata": {},
   "outputs": [],
   "source": [
    "vbse_gen.plot_grid(rgb_channels=[red, green, blue], visible_indices=False)"
   ]
  },
  {
   "cell_type": "markdown",
   "metadata": {},
   "source": [
    "Use the RGB image to navigate the patterns with"
   ]
  },
  {
   "cell_type": "code",
   "execution_count": null,
   "metadata": {},
   "outputs": [],
   "source": [
    "s.plot(navigator=vbse_rgb_image)"
   ]
  },
  {
   "cell_type": "markdown",
   "metadata": {},
   "source": [
    "Save the virtual BSE RGB image to an image file"
   ]
  },
  {
   "cell_type": "code",
   "execution_count": null,
   "metadata": {},
   "outputs": [],
   "source": [
    "vbse_rgb_image.save(\"rgb.png\")"
   ]
  },
  {
   "cell_type": "markdown",
   "metadata": {},
   "source": [
    "To add an \"alpha channel\" (multiply RGB channels with a grey scale image) to the\n",
    "RGB image, we compute the image quality"
   ]
  },
  {
   "cell_type": "code",
   "execution_count": null,
   "metadata": {},
   "outputs": [],
   "source": [
    "s2 = s.deepcopy()"
   ]
  },
  {
   "cell_type": "code",
   "execution_count": null,
   "metadata": {},
   "outputs": [],
   "source": [
    "s2.remove_dynamic_background()"
   ]
  },
  {
   "cell_type": "code",
   "execution_count": null,
   "metadata": {},
   "outputs": [],
   "source": [
    "iq = s2.get_image_quality()"
   ]
  },
  {
   "cell_type": "markdown",
   "metadata": {},
   "source": [
    "The alpha channel is scaled to the full black-white range. The darkest parts\n",
    "might be a bit too dark, so we stretch the contrast"
   ]
  },
  {
   "cell_type": "code",
   "execution_count": null,
   "metadata": {},
   "outputs": [],
   "source": [
    "vbse_rgba_image = vbse_gen.get_rgb_image(\n",
    "    r=red,\n",
    "    g=green,\n",
    "    b=blue,\n",
    "    alpha=iq,\n",
    "    percentiles=(2, 98)  # Contrast stretching\n",
    ")"
   ]
  },
  {
   "cell_type": "markdown",
   "metadata": {},
   "source": [
    "Plot the RGBA image"
   ]
  },
  {
   "cell_type": "code",
   "execution_count": null,
   "metadata": {},
   "outputs": [],
   "source": [
    "vbse_rgba_image.plot()"
   ]
  },
  {
   "cell_type": "markdown",
   "metadata": {},
   "source": [
    "Save the virtual BSE RGBA image to an image file"
   ]
  },
  {
   "cell_type": "code",
   "execution_count": null,
   "metadata": {},
   "outputs": [],
   "source": [
    "vbse_rgba_image.save(\"rgba.png\")"
   ]
  },
  {
   "cell_type": "markdown",
   "metadata": {},
   "source": [
    "## 5.2 From Gaussian fitting parameters <a class=\"anchor\" id=\"5.2\"></a>"
   ]
  },
  {
   "cell_type": "markdown",
   "metadata": {},
   "source": [
    "See Britton, T Ben, Goran, Daniel, Tong, Vivian S, \"Space rocks and optimising scanning electron channelling contrast,\" *Materials Characterization* **142** (2018), doi: https://doi.org/10.1016/j.matchar.2018.06.001 for further explanations of this part. "
   ]
  },
  {
   "cell_type": "markdown",
   "metadata": {},
   "source": [
    "Fit a 2D Gaussian to every raw pattern, by first creating a HyperSpy model"
   ]
  },
  {
   "cell_type": "code",
   "execution_count": null,
   "metadata": {},
   "outputs": [],
   "source": [
    "m = s0.create_model()"
   ]
  },
  {
   "cell_type": "code",
   "execution_count": null,
   "metadata": {},
   "outputs": [],
   "source": [
    "m"
   ]
  },
  {
   "cell_type": "markdown",
   "metadata": {},
   "source": [
    "Add a 2D Gaussian component to the model"
   ]
  },
  {
   "cell_type": "code",
   "execution_count": null,
   "metadata": {},
   "outputs": [],
   "source": [
    "m.append(hs.model.components2D.Gaussian2D())"
   ]
  },
  {
   "cell_type": "code",
   "execution_count": null,
   "metadata": {},
   "outputs": [],
   "source": [
    "m.components"
   ]
  },
  {
   "cell_type": "markdown",
   "metadata": {},
   "source": [
    "Inspect the model parameters"
   ]
  },
  {
   "cell_type": "code",
   "execution_count": null,
   "metadata": {},
   "outputs": [],
   "source": [
    "m[0].parameters"
   ]
  },
  {
   "cell_type": "markdown",
   "metadata": {},
   "source": [
    "Fit the model to the data (find the parameters describing the background signal\n",
    "best for each pattern). Note that this might take a while..."
   ]
  },
  {
   "cell_type": "code",
   "execution_count": null,
   "metadata": {},
   "outputs": [],
   "source": [
    "m.multifit()"
   ]
  },
  {
   "cell_type": "markdown",
   "metadata": {},
   "source": [
    "Get maps of the fitted parameters, using the notation from the above mentioned\n",
    "paper"
   ]
  },
  {
   "cell_type": "code",
   "execution_count": null,
   "metadata": {},
   "outputs": [],
   "source": [
    "gaussian = m[0]\n",
    "\n",
    "xc = gaussian.centre_x.as_signal().data\n",
    "yc = gaussian.centre_x.as_signal().data\n",
    "xw = gaussian.sigma_x.as_signal().data\n",
    "yw = gaussian.sigma_y.as_signal().data\n",
    "I = gaussian.A.as_signal().data"
   ]
  },
  {
   "cell_type": "markdown",
   "metadata": {},
   "source": [
    "Perform contrast stretching on the results to remove outliers"
   ]
  },
  {
   "cell_type": "code",
   "execution_count": null,
   "metadata": {},
   "outputs": [],
   "source": [
    "percentiles = (1, 99)"
   ]
  },
  {
   "cell_type": "code",
   "execution_count": null,
   "metadata": {},
   "outputs": [],
   "source": [
    "p_xc = np.percentile(xc, q=percentiles)\n",
    "xc2 = kp.pattern.rescale_intensity(xc, in_range=p_xc)"
   ]
  },
  {
   "cell_type": "code",
   "execution_count": null,
   "metadata": {},
   "outputs": [],
   "source": [
    "p_yc = np.percentile(yc, q=percentiles)\n",
    "yc2 = kp.pattern.rescale_intensity(yc, in_range=p_yc)"
   ]
  },
  {
   "cell_type": "code",
   "execution_count": null,
   "metadata": {},
   "outputs": [],
   "source": [
    "p_xw = np.percentile(xw, q=percentiles)\n",
    "xw2 = kp.pattern.rescale_intensity(xw, in_range=p_xw)"
   ]
  },
  {
   "cell_type": "code",
   "execution_count": null,
   "metadata": {},
   "outputs": [],
   "source": [
    "p_yw = np.percentile(yw, q=percentiles)\n",
    "yw2 = kp.pattern.rescale_intensity(yw, in_range=p_yw)"
   ]
  },
  {
   "cell_type": "code",
   "execution_count": null,
   "metadata": {},
   "outputs": [],
   "source": [
    "p_I = np.percentile(I, q=percentiles)\n",
    "I2 = kp.pattern.rescale_intensity(I, in_range=p_I)"
   ]
  },
  {
   "cell_type": "markdown",
   "metadata": {},
   "source": [
    "Create RGB images from the parameters"
   ]
  },
  {
   "cell_type": "code",
   "execution_count": null,
   "metadata": {},
   "outputs": [],
   "source": [
    "rgb_xc_yc_I_array = kp.generators.util.get_rgb_image(channels=[xc2, yc2, I2])"
   ]
  },
  {
   "cell_type": "code",
   "execution_count": null,
   "metadata": {},
   "outputs": [],
   "source": [
    "rgb_xw_yw_I_array = kp.generators.util.get_rgb_image(channels=[xw2, yw2, I2])"
   ]
  },
  {
   "cell_type": "markdown",
   "metadata": {},
   "source": [
    "Plot the results"
   ]
  },
  {
   "cell_type": "code",
   "execution_count": null,
   "metadata": {},
   "outputs": [],
   "source": [
    "fig, ax = plt.subplots(ncols=2)\n",
    "ax[0].imshow(rgb_xc_yc_I_array)\n",
    "ax[1].imshow(rgb_xw_yw_I_array)"
   ]
  },
  {
   "cell_type": "markdown",
   "metadata": {},
   "source": [
    "Save the results to file"
   ]
  },
  {
   "cell_type": "code",
   "execution_count": null,
   "metadata": {},
   "outputs": [],
   "source": [
    "plt.imsave(\"rgb_xc_yc_I.png\", rgb_xc_yc_I_array)\n",
    "plt.imsave(\"rgb_xw_yw_I.png\", rgb_xw_yw_I_array)"
   ]
  }
 ],
 "metadata": {
  "kernelspec": {
   "display_name": "Python 3",
   "language": "python",
   "name": "python3"
  },
  "language_info": {
   "codemirror_mode": {
    "name": "ipython",
    "version": 3
   },
   "file_extension": ".py",
   "mimetype": "text/x-python",
   "name": "python",
   "nbconvert_exporter": "python",
   "pygments_lexer": "ipython3",
   "version": "3.8.3"
  }
 },
 "nbformat": 4,
 "nbformat_minor": 4
}
