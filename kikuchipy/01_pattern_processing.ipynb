{
 "cells": [
  {
   "cell_type": "markdown",
   "metadata": {},
   "source": [
    "# Introduction\n",
    "\n",
    "This tutorial demonstrates basic steps involved in processing electron\n",
    "backscatter diffraction (EBSD) patterns before crystal structure determination\n",
    "(indexing) or other analysis.\n",
    "\n",
    "For learning purposes, we recommend to use this notebook alongside our [user\n",
    "guide](https://kikuchipy.org).\n",
    "\n",
    "The data consists of 29 800 EBSD patterns from recrystallized polycrystalline\n",
    "Nickel. It is available [via Zenodo](https://zenodo.org/record/3265037).\n",
    "\n",
    "This functionality has been checked to run in kikuchipy-0.2.0 (May 2020). Bugs\n",
    "are always possible, do not trust the code blindly, and if you experience any\n",
    "issues, report them [in our issue\n",
    "tracker](https://github.com/kikuchipy/kikuchipy-demos/issues).\n",
    "\n",
    "Access all methods' documentation (docstrings) when the cursor is within the\n",
    "function parantheses, like `function(CURSOR HERE)`, by holding `SHIFT` and\n",
    "pressing `TAB`.\n",
    "\n",
    "# Contents\n",
    "\n",
    "1. [Loading and data inspection](#1)\n",
    "2. [Background correction](#2)  \n",
    "    1. [Static background correction](#2.1)  \n",
    "    2. [Dynamic background correction](#2.2)\n",
    "3. [Neighbour pattern averaging](#3)\n",
    "4. [Further processing](#4)  \n",
    "    1. [Intensity normalization](#4.1)  \n",
    "    2. [Intensity rescaling/contrast stretching](#4.2)  \n",
    "    3. [Filtering in the frequency domain (FFT filtering)](#4.3)  \n",
    "    4. [Adaptive histogram equalization](#4.4)  \n",
    "\n",
    "Set the interactive [Matplotlib backend](https://matplotlib.org/3.2.1/tutorials/introductory/usage.html#backends)\n",
    "(`%matplotlib qt5`), import kikuchipy and other necessary libraries"
   ]
  },
  {
   "cell_type": "code",
   "execution_count": 1,
   "metadata": {},
   "outputs": [],
   "source": [
    "%matplotlib qt5\n",
    "import hyperspy.api as hs\n",
    "import matplotlib.pyplot as plt\n",
    "import numpy as np\n",
    "import kikuchipy as kp"
   ]
  },
  {
   "cell_type": "markdown",
   "metadata": {},
   "source": [
    "# 1. Loading and data inspection <a class=\"anchor\" id=\"1\"></a>\n",
    "\n",
    "Load the EBSD data"
   ]
  },
  {
   "cell_type": "code",
   "execution_count": 2,
   "metadata": {},
   "outputs": [],
   "source": [
    "data = \"/Volumes/MBPe_15_Data/docs/school/Lehigh/jobs/NHI/working/EBSD/nickel_scan_gain/scan1_gain0db/Pattern.dat\"\n",
    "s = kp.load(data, lazy=False)  # lazy=True to not load into memory before calling s.compute()"
   ]
  },
  {
   "cell_type": "markdown",
   "metadata": {},
   "source": [
    "Inspect the EBSD object `s`"
   ]
  },
  {
   "cell_type": "code",
   "execution_count": 3,
   "metadata": {},
   "outputs": [
    {
     "data": {
      "text/plain": [
       "<EBSD, title: Pattern, dimensions: (200, 149|60, 60)>"
      ]
     },
     "execution_count": 3,
     "metadata": {},
     "output_type": "execute_result"
    }
   ],
   "source": [
    "s"
   ]
  },
  {
   "cell_type": "markdown",
   "metadata": {},
   "source": [
    "Inspect the data type"
   ]
  },
  {
   "cell_type": "code",
   "execution_count": 4,
   "metadata": {},
   "outputs": [
    {
     "data": {
      "text/plain": [
       "dtype('uint8')"
      ]
     },
     "execution_count": 4,
     "metadata": {},
     "output_type": "execute_result"
    }
   ],
   "source": [
    "s.data.dtype"
   ]
  },
  {
   "cell_type": "markdown",
   "metadata": {},
   "source": [
    "Inspect the metadata associated with the EBSD object `s`"
   ]
  },
  {
   "cell_type": "code",
   "execution_count": 5,
   "metadata": {},
   "outputs": [
    {
     "data": {
      "text/plain": [
       "├── Acquisition_instrument\n",
       "│   └── SEM\n",
       "│       ├── Detector\n",
       "│       │   └── EBSD\n",
       "│       │       ├── azimuth_angle = 0.0\n",
       "│       │       ├── binning = -1.0\n",
       "│       │       ├── detector = NORDIF UF1100\n",
       "│       │       ├── elevation_angle = 0.0\n",
       "│       │       ├── exposure_time = 0.0035\n",
       "│       │       ├── frame_number = -1\n",
       "│       │       ├── frame_rate = 202\n",
       "│       │       ├── gain = 0.0\n",
       "│       │       ├── grid_type = square\n",
       "│       │       ├── manufacturer = NORDIF\n",
       "│       │       ├── sample_tilt = 70.0\n",
       "│       │       ├── scan_time = 148\n",
       "│       │       ├── static_background = array([[84, 87, 90, ..., 27, 29, 30],\n",
       "       [87, 90, 93, ..., 27, 28, 30],\n",
       "   ...  80, 82, ..., 28, 26, 26],\n",
       "       [76, 78, 80, ..., 26, 26, 25]], dtype=uint8)\n",
       "│       │       ├── version = 3.1.2\n",
       "│       │       ├── xpc = -1.0\n",
       "│       │       ├── ypc = -1.0\n",
       "│       │       └── zpc = -1.0\n",
       "│       ├── beam_energy = 20.0\n",
       "│       ├── magnification = 200\n",
       "│       ├── microscope = Hitachi SU-6600\n",
       "│       └── working_distance = 24.7\n",
       "├── General\n",
       "│   ├── original_filename = /Volumes/MBPe_15_Data/docs/school/Lehigh/jobs/NHI/working/EBSD/nickel_scan_gain/scan1_gain0db/Pattern.dat\n",
       "│   └── title = Pattern\n",
       "├── Sample\n",
       "│   └── Phases\n",
       "│       └── 1\n",
       "│           ├── atom_coordinates\n",
       "│           │   └── 1\n",
       "│           │       ├── atom = \n",
       "│           │       ├── coordinates = array([0., 0., 0.])\n",
       "│           │       ├── debye_waller_factor = 0.0\n",
       "│           │       └── site_occupation = 0.0\n",
       "│           ├── formula = \n",
       "│           ├── info = \n",
       "│           ├── lattice_constants = array([0., 0., 0., 0., 0., 0.])\n",
       "│           ├── laue_group = \n",
       "│           ├── material_name = Ni\n",
       "│           ├── point_group = \n",
       "│           ├── setting = 0\n",
       "│           ├── source = \n",
       "│           ├── space_group = 0\n",
       "│           └── symmetry = 0\n",
       "└── Signal\n",
       "    ├── binned = False\n",
       "    └── signal_type = EBSD"
      ]
     },
     "execution_count": 5,
     "metadata": {},
     "output_type": "execute_result"
    }
   ],
   "source": [
    "s.metadata"
   ]
  },
  {
   "cell_type": "markdown",
   "metadata": {},
   "source": [
    "Set important experimental parameters, like the pattern centre (in EMsoft's convention)"
   ]
  },
  {
   "cell_type": "code",
   "execution_count": 6,
   "metadata": {},
   "outputs": [],
   "source": [
    "s.set_experimental_parameters(\n",
    "    xpc=38.86,\n",
    "    ypc=132.65,\n",
    "    zpc=16986.48,\n",
    "    binning=8\n",
    ")"
   ]
  },
  {
   "cell_type": "markdown",
   "metadata": {},
   "source": [
    "See how this changed the metadata of the EBSD metadata node"
   ]
  },
  {
   "cell_type": "code",
   "execution_count": 7,
   "metadata": {},
   "outputs": [],
   "source": [
    "ebsd_node = kp.signals.util.metadata_nodes(\"ebsd\")"
   ]
  },
  {
   "cell_type": "code",
   "execution_count": 8,
   "metadata": {},
   "outputs": [
    {
     "data": {
      "text/plain": [
       "├── azimuth_angle = 0.0\n",
       "├── binning = 8\n",
       "├── detector = NORDIF UF1100\n",
       "├── elevation_angle = 0.0\n",
       "├── exposure_time = 0.0035\n",
       "├── frame_number = -1\n",
       "├── frame_rate = 202\n",
       "├── gain = 0.0\n",
       "├── grid_type = square\n",
       "├── manufacturer = NORDIF\n",
       "├── sample_tilt = 70.0\n",
       "├── scan_time = 148\n",
       "├── static_background = array([[84, 87, 90, ..., 27, 29, 30],\n",
       "       [87, 90, 93, ..., 27, 28, 30],\n",
       "   ...  80, 82, ..., 28, 26, 26],\n",
       "       [76, 78, 80, ..., 26, 26, 25]], dtype=uint8)\n",
       "├── version = 3.1.2\n",
       "├── xpc = 38.86\n",
       "├── ypc = 132.65\n",
       "└── zpc = 16986.48"
      ]
     },
     "execution_count": 8,
     "metadata": {},
     "output_type": "execute_result"
    }
   ],
   "source": [
    "s.metadata.get_item(ebsd_node)"
   ]
  },
  {
   "cell_type": "markdown",
   "metadata": {},
   "source": [
    "Set another metadata item and check that"
   ]
  },
  {
   "cell_type": "code",
   "execution_count": 9,
   "metadata": {},
   "outputs": [],
   "source": [
    "s.metadata.set_item(\"General.title\", \"Recrystallized Ni\")"
   ]
  },
  {
   "cell_type": "code",
   "execution_count": 10,
   "metadata": {},
   "outputs": [
    {
     "data": {
      "text/plain": [
       "├── Acquisition_instrument\n",
       "│   └── SEM\n",
       "│       ├── Detector\n",
       "│       │   └── EBSD\n",
       "│       │       ├── azimuth_angle = 0.0\n",
       "│       │       ├── binning = 8\n",
       "│       │       ├── detector = NORDIF UF1100\n",
       "│       │       ├── elevation_angle = 0.0\n",
       "│       │       ├── exposure_time = 0.0035\n",
       "│       │       ├── frame_number = -1\n",
       "│       │       ├── frame_rate = 202\n",
       "│       │       ├── gain = 0.0\n",
       "│       │       ├── grid_type = square\n",
       "│       │       ├── manufacturer = NORDIF\n",
       "│       │       ├── sample_tilt = 70.0\n",
       "│       │       ├── scan_time = 148\n",
       "│       │       ├── static_background = array([[84, 87, 90, ..., 27, 29, 30],\n",
       "       [87, 90, 93, ..., 27, 28, 30],\n",
       "   ...  80, 82, ..., 28, 26, 26],\n",
       "       [76, 78, 80, ..., 26, 26, 25]], dtype=uint8)\n",
       "│       │       ├── version = 3.1.2\n",
       "│       │       ├── xpc = 38.86\n",
       "│       │       ├── ypc = 132.65\n",
       "│       │       └── zpc = 16986.48\n",
       "│       ├── beam_energy = 20.0\n",
       "│       ├── magnification = 200\n",
       "│       ├── microscope = Hitachi SU-6600\n",
       "│       └── working_distance = 24.7\n",
       "├── General\n",
       "│   ├── original_filename = /Volumes/MBPe_15_Data/docs/school/Lehigh/jobs/NHI/working/EBSD/nickel_scan_gain/scan1_gain0db/Pattern.dat\n",
       "│   └── title = Recrystallized Ni\n",
       "├── Sample\n",
       "│   └── Phases\n",
       "│       └── 1\n",
       "│           ├── atom_coordinates\n",
       "│           │   └── 1\n",
       "│           │       ├── atom = \n",
       "│           │       ├── coordinates = array([0., 0., 0.])\n",
       "│           │       ├── debye_waller_factor = 0.0\n",
       "│           │       └── site_occupation = 0.0\n",
       "│           ├── formula = \n",
       "│           ├── info = \n",
       "│           ├── lattice_constants = array([0., 0., 0., 0., 0., 0.])\n",
       "│           ├── laue_group = \n",
       "│           ├── material_name = Ni\n",
       "│           ├── point_group = \n",
       "│           ├── setting = 0\n",
       "│           ├── source = \n",
       "│           ├── space_group = 0\n",
       "│           └── symmetry = 0\n",
       "└── Signal\n",
       "    ├── binned = False\n",
       "    └── signal_type = EBSD"
      ]
     },
     "execution_count": 10,
     "metadata": {},
     "output_type": "execute_result"
    }
   ],
   "source": [
    "s.metadata"
   ]
  },
  {
   "cell_type": "code",
   "execution_count": 11,
   "metadata": {},
   "outputs": [
    {
     "data": {
      "text/plain": [
       "<EBSD, title: Recrystallized Ni, dimensions: (200, 149|60, 60)>"
      ]
     },
     "execution_count": 11,
     "metadata": {},
     "output_type": "execute_result"
    }
   ],
   "source": [
    "s"
   ]
  },
  {
   "cell_type": "markdown",
   "metadata": {},
   "source": [
    "Inspect the signal (detector) and navigation (sample) axes"
   ]
  },
  {
   "cell_type": "code",
   "execution_count": 12,
   "metadata": {},
   "outputs": [
    {
     "data": {
      "text/html": [
       "<style>\n",
       "table, th, td {\n",
       "\tborder: 1px solid black;\n",
       "\tborder-collapse: collapse;\n",
       "}\n",
       "th, td {\n",
       "\tpadding: 5px;\n",
       "}\n",
       "</style>\n",
       "<p><b>< Axes manager, axes: (200, 149|60, 60) ></b></p>\n",
       "<table style='width:100%'>\n",
       "\n",
       "<tr> \n",
       "<th>Navigation axis name</th> \n",
       "<th>size</th> \n",
       "<th>index</th> \n",
       "<th>offset</th> \n",
       "<th>scale</th> \n",
       "<th>units</th> </tr>\n",
       "<tr> \n",
       "<td>x</td> \n",
       "<td>200</td> \n",
       "<td>0</td> \n",
       "<td>0.0</td> \n",
       "<td>1.5</td> \n",
       "<td>um</td> </tr>\n",
       "<tr> \n",
       "<td>y</td> \n",
       "<td>149</td> \n",
       "<td>0</td> \n",
       "<td>0.0</td> \n",
       "<td>1.5</td> \n",
       "<td>um</td> </tr></table>\n",
       "<table style='width:100%'>\n",
       "\n",
       "<tr> \n",
       "<th>Signal axis name</th> \n",
       "<th>size</th> \n",
       "<th>offset</th> \n",
       "<th>scale</th> \n",
       "<th>units</th> </tr>\n",
       "<tr> \n",
       "<td>dx</td> \n",
       "<td>60</td> \n",
       "<td>0.0</td> \n",
       "<td>1.0</td> \n",
       "<td>um</td> </tr>\n",
       "<tr> \n",
       "<td>dy</td> \n",
       "<td>60</td> \n",
       "<td>0.0</td> \n",
       "<td>1.0</td> \n",
       "<td>um</td> </tr></table>\n"
      ],
      "text/plain": [
       "<Axes manager, axes: (200, 149|60, 60)>\n",
       "            Name |   size |  index |  offset |   scale |  units \n",
       "================ | ====== | ====== | ======= | ======= | ====== \n",
       "               x |    200 |      0 |       0 |     1.5 |     um \n",
       "               y |    149 |      0 |       0 |     1.5 |     um \n",
       "---------------- | ------ | ------ | ------- | ------- | ------ \n",
       "              dx |     60 |        |       0 |       1 |     um \n",
       "              dy |     60 |        |       0 |       1 |     um "
      ]
     },
     "execution_count": 12,
     "metadata": {},
     "output_type": "execute_result"
    }
   ],
   "source": [
    "s.axes_manager"
   ]
  },
  {
   "cell_type": "markdown",
   "metadata": {},
   "source": [
    "Set the detector pixel size (and the detector origin to the detector centre)"
   ]
  },
  {
   "cell_type": "code",
   "execution_count": 13,
   "metadata": {},
   "outputs": [],
   "source": [
    "s.set_detector_calibration(delta=70)  # Microns"
   ]
  },
  {
   "cell_type": "markdown",
   "metadata": {},
   "source": [
    "Inspect the axes manager again (note the signal scale)"
   ]
  },
  {
   "cell_type": "code",
   "execution_count": 14,
   "metadata": {},
   "outputs": [
    {
     "data": {
      "text/html": [
       "<style>\n",
       "table, th, td {\n",
       "\tborder: 1px solid black;\n",
       "\tborder-collapse: collapse;\n",
       "}\n",
       "th, td {\n",
       "\tpadding: 5px;\n",
       "}\n",
       "</style>\n",
       "<p><b>< Axes manager, axes: (200, 149|60, 60) ></b></p>\n",
       "<table style='width:100%'>\n",
       "\n",
       "<tr> \n",
       "<th>Navigation axis name</th> \n",
       "<th>size</th> \n",
       "<th>index</th> \n",
       "<th>offset</th> \n",
       "<th>scale</th> \n",
       "<th>units</th> </tr>\n",
       "<tr> \n",
       "<td>x</td> \n",
       "<td>200</td> \n",
       "<td>0</td> \n",
       "<td>0.0</td> \n",
       "<td>1.5</td> \n",
       "<td>um</td> </tr>\n",
       "<tr> \n",
       "<td>y</td> \n",
       "<td>149</td> \n",
       "<td>0</td> \n",
       "<td>0.0</td> \n",
       "<td>1.5</td> \n",
       "<td>um</td> </tr></table>\n",
       "<table style='width:100%'>\n",
       "\n",
       "<tr> \n",
       "<th>Signal axis name</th> \n",
       "<th>size</th> \n",
       "<th>offset</th> \n",
       "<th>scale</th> \n",
       "<th>units</th> </tr>\n",
       "<tr> \n",
       "<td>dx</td> \n",
       "<td>60</td> \n",
       "<td>-2100.0</td> \n",
       "<td>70.0</td> \n",
       "<td>um</td> </tr>\n",
       "<tr> \n",
       "<td>dy</td> \n",
       "<td>60</td> \n",
       "<td>-2100.0</td> \n",
       "<td>70.0</td> \n",
       "<td>um</td> </tr></table>\n"
      ],
      "text/plain": [
       "<Axes manager, axes: (200, 149|60, 60)>\n",
       "            Name |   size |  index |  offset |   scale |  units \n",
       "================ | ====== | ====== | ======= | ======= | ====== \n",
       "               x |    200 |      0 |       0 |     1.5 |     um \n",
       "               y |    149 |      0 |       0 |     1.5 |     um \n",
       "---------------- | ------ | ------ | ------- | ------- | ------ \n",
       "              dx |     60 |        | -2.1e+03 |      70 |     um \n",
       "              dy |     60 |        | -2.1e+03 |      70 |     um "
      ]
     },
     "execution_count": 14,
     "metadata": {},
     "output_type": "execute_result"
    }
   ],
   "source": [
    "s.axes_manager"
   ]
  },
  {
   "cell_type": "markdown",
   "metadata": {},
   "source": [
    "Plot the patterns"
   ]
  },
  {
   "cell_type": "code",
   "execution_count": 15,
   "metadata": {},
   "outputs": [],
   "source": [
    "s.plot()"
   ]
  },
  {
   "cell_type": "markdown",
   "metadata": {},
   "source": [
    "If we want to only operate on or inspect parts of a data set, e.g. a square\n",
    "from an upper left pattern (row, col) = (10, 20) to a bottom right pattern\n",
    "(row, col) = (50, 70)"
   ]
  },
  {
   "cell_type": "code",
   "execution_count": 16,
   "metadata": {},
   "outputs": [],
   "source": [
    "#s = s.inav[10:50, 20:70]"
   ]
  },
  {
   "cell_type": "markdown",
   "metadata": {},
   "source": [
    "# 2. Background correction <a class=\"anchor\" id=\"2\"></a>"
   ]
  },
  {
   "cell_type": "markdown",
   "metadata": {},
   "source": [
    "## 2.A Static background correction <a class=\"anchor\" id=\"2.1\"></a>"
   ]
  },
  {
   "cell_type": "markdown",
   "metadata": {},
   "source": [
    "Inspect the static background pattern"
   ]
  },
  {
   "cell_type": "code",
   "execution_count": 17,
   "metadata": {},
   "outputs": [],
   "source": [
    "static_bg = s.metadata.get_item(ebsd_node + \".static_background\")"
   ]
  },
  {
   "cell_type": "code",
   "execution_count": 18,
   "metadata": {},
   "outputs": [
    {
     "data": {
      "text/plain": [
       "<matplotlib.image.AxesImage at 0x13bd14640>"
      ]
     },
     "execution_count": 18,
     "metadata": {},
     "output_type": "execute_result"
    }
   ],
   "source": [
    "plt.imshow(static_bg)"
   ]
  },
  {
   "cell_type": "markdown",
   "metadata": {},
   "source": [
    "Remove the static background from each pattern by subtracting by it, but keeping relative intensities between the patterns"
   ]
  },
  {
   "cell_type": "code",
   "execution_count": 19,
   "metadata": {
    "scrolled": true
   },
   "outputs": [
    {
     "name": "stdout",
     "output_type": "stream",
     "text": [
      "Removing the static background:\n",
      "[########################################] | 100% Completed |  4.5s\n"
     ]
    }
   ],
   "source": [
    "s.remove_static_background(operation=\"subtract\", relative=True)"
   ]
  },
  {
   "cell_type": "markdown",
   "metadata": {},
   "source": [
    "Inspect the static background corrected patterns"
   ]
  },
  {
   "cell_type": "code",
   "execution_count": 20,
   "metadata": {},
   "outputs": [],
   "source": [
    "s.plot()"
   ]
  },
  {
   "cell_type": "markdown",
   "metadata": {},
   "source": [
    "## 2.B Dynamic background correction <a class=\"anchor\" id=\"2.2\"></a>"
   ]
  },
  {
   "cell_type": "markdown",
   "metadata": {},
   "source": [
    "Before we remove the large scale variations on the detector (dynamic background), we want to inspect it. It can be obtained by Gaussian blurring in real or frequency space "
   ]
  },
  {
   "cell_type": "code",
   "execution_count": 21,
   "metadata": {},
   "outputs": [
    {
     "name": "stdout",
     "output_type": "stream",
     "text": [
      "Getting the dynamic background:\n",
      "[########################################] | 100% Completed | 11.2s\n"
     ]
    }
   ],
   "source": [
    "dynamic_bg = s.get_dynamic_background(\n",
    "    filter_domain=\"frequency\",  # or spatial\n",
    "    std=8,\n",
    "    truncate=4,\n",
    "    dtype_out=np.float32,  # Takes up 4 times the RAM!\n",
    ")"
   ]
  },
  {
   "cell_type": "markdown",
   "metadata": {},
   "source": [
    "Inspect the dynamic background"
   ]
  },
  {
   "cell_type": "code",
   "execution_count": 22,
   "metadata": {},
   "outputs": [],
   "source": [
    "dynamic_bg.plot()"
   ]
  },
  {
   "cell_type": "markdown",
   "metadata": {},
   "source": [
    "Remove the dynamic background from each pattern by subtracting by it (of course loosing relative intensities between the patterns)"
   ]
  },
  {
   "cell_type": "code",
   "execution_count": 23,
   "metadata": {},
   "outputs": [
    {
     "name": "stdout",
     "output_type": "stream",
     "text": [
      "Removing the dynamic background:\n",
      "[########################################] | 100% Completed | 14.8s\n"
     ]
    }
   ],
   "source": [
    "s.remove_dynamic_background(\n",
    "    operation=\"subtract\",\n",
    "    filter_domain=\"frequency\",\n",
    "    std=8,\n",
    "    truncate=4,\n",
    ")"
   ]
  },
  {
   "cell_type": "markdown",
   "metadata": {},
   "source": [
    "Inspect the dynamic background corrected patterns"
   ]
  },
  {
   "cell_type": "code",
   "execution_count": 24,
   "metadata": {},
   "outputs": [],
   "source": [
    "s.plot()"
   ]
  },
  {
   "cell_type": "markdown",
   "metadata": {},
   "source": [
    "# 3. Neighbour pattern averaging <a class=\"anchor\" id=\"3\"></a>"
   ]
  },
  {
   "cell_type": "markdown",
   "metadata": {},
   "source": [
    "Create an averaging kernel"
   ]
  },
  {
   "cell_type": "code",
   "execution_count": 25,
   "metadata": {},
   "outputs": [],
   "source": [
    "w_cross = kp.filters.Window(window=\"circular\", shape=(3, 3))"
   ]
  },
  {
   "cell_type": "markdown",
   "metadata": {},
   "source": [
    "Inspect the kernel and plot it"
   ]
  },
  {
   "cell_type": "code",
   "execution_count": 26,
   "metadata": {},
   "outputs": [
    {
     "data": {
      "text/plain": [
       "(<Figure size 640x480 with 2 Axes>,\n",
       " <matplotlib.image.AxesImage at 0x13c9d7190>,\n",
       " <matplotlib.colorbar.Colorbar at 0x157a9fca0>)"
      ]
     },
     "execution_count": 26,
     "metadata": {},
     "output_type": "execute_result"
    }
   ],
   "source": [
    "w_cross.plot()"
   ]
  },
  {
   "cell_type": "code",
   "execution_count": 27,
   "metadata": {},
   "outputs": [
    {
     "data": {
      "text/plain": [
       "Window (3, 3) circular\n",
       "[[0. 1. 0.]\n",
       " [1. 1. 1.]\n",
       " [0. 1. 0.]]"
      ]
     },
     "execution_count": 27,
     "metadata": {},
     "output_type": "execute_result"
    }
   ],
   "source": [
    "w_cross"
   ]
  },
  {
   "cell_type": "markdown",
   "metadata": {},
   "source": [
    "Create a Gaussian averaging kernel"
   ]
  },
  {
   "cell_type": "code",
   "execution_count": 28,
   "metadata": {},
   "outputs": [],
   "source": [
    "w_gauss = kp.filters.Window(window=\"gaussian\", std=1, shape=(9, 9))"
   ]
  },
  {
   "cell_type": "markdown",
   "metadata": {},
   "source": [
    "Inspect it"
   ]
  },
  {
   "cell_type": "code",
   "execution_count": 29,
   "metadata": {},
   "outputs": [
    {
     "data": {
      "text/plain": [
       "Window (9, 9) gaussian\n",
       "[[0.     0.     0.     0.0002 0.0003 0.0002 0.     0.     0.    ]\n",
       " [0.     0.0001 0.0015 0.0067 0.0111 0.0067 0.0015 0.0001 0.    ]\n",
       " [0.     0.0015 0.0183 0.0821 0.1353 0.0821 0.0183 0.0015 0.    ]\n",
       " [0.0002 0.0067 0.0821 0.3679 0.6065 0.3679 0.0821 0.0067 0.0002]\n",
       " [0.0003 0.0111 0.1353 0.6065 1.     0.6065 0.1353 0.0111 0.0003]\n",
       " [0.0002 0.0067 0.0821 0.3679 0.6065 0.3679 0.0821 0.0067 0.0002]\n",
       " [0.     0.0015 0.0183 0.0821 0.1353 0.0821 0.0183 0.0015 0.    ]\n",
       " [0.     0.0001 0.0015 0.0067 0.0111 0.0067 0.0015 0.0001 0.    ]\n",
       " [0.     0.     0.     0.0002 0.0003 0.0002 0.     0.     0.    ]]"
      ]
     },
     "execution_count": 29,
     "metadata": {},
     "output_type": "execute_result"
    }
   ],
   "source": [
    "w_gauss"
   ]
  },
  {
   "cell_type": "markdown",
   "metadata": {},
   "source": [
    "Average each pattern (in the window centre, `1.`) with the neighbouring patterns with the window coefficients in `w_gauss` (by performing spatial correlation)"
   ]
  },
  {
   "cell_type": "code",
   "execution_count": 30,
   "metadata": {},
   "outputs": [
    {
     "name": "stdout",
     "output_type": "stream",
     "text": [
      "Averaging with the neighbour patterns:\n",
      "[########################################] | 100% Completed | 15.5s\n"
     ]
    }
   ],
   "source": [
    "s.average_neighbour_patterns(window=w_gauss)"
   ]
  },
  {
   "cell_type": "markdown",
   "metadata": {},
   "source": [
    "Inspect the averaged patterns"
   ]
  },
  {
   "cell_type": "code",
   "execution_count": 31,
   "metadata": {},
   "outputs": [],
   "source": [
    "s.plot()"
   ]
  },
  {
   "cell_type": "markdown",
   "metadata": {},
   "source": [
    "# 4. Further processing <a class=\"anchor\" id=\"4\"></a>"
   ]
  },
  {
   "cell_type": "markdown",
   "metadata": {},
   "source": [
    "## 4.A Intensity normalization <a class=\"anchor\" id=\"4.1\"></a>"
   ]
  },
  {
   "cell_type": "markdown",
   "metadata": {},
   "source": [
    "Normalize the patterns intensities to a mean of zero and a standard deviation of one"
   ]
  },
  {
   "cell_type": "code",
   "execution_count": 32,
   "metadata": {},
   "outputs": [],
   "source": [
    "s.change_dtype(np.float32)  # Or passing dtype_out=np.float32 to normalize_intensity()"
   ]
  },
  {
   "cell_type": "code",
   "execution_count": 33,
   "metadata": {},
   "outputs": [
    {
     "name": "stdout",
     "output_type": "stream",
     "text": [
      "Normalizing the image intensities:\n",
      "[########################################] | 100% Completed |  2.6s\n"
     ]
    }
   ],
   "source": [
    "s.normalize_intensity()"
   ]
  },
  {
   "cell_type": "markdown",
   "metadata": {},
   "source": [
    "Inspect the normalized patterns"
   ]
  },
  {
   "cell_type": "code",
   "execution_count": 34,
   "metadata": {},
   "outputs": [],
   "source": [
    "s.plot()"
   ]
  },
  {
   "cell_type": "markdown",
   "metadata": {},
   "source": [
    "## 4.B Intensity rescaling/contrast stretching <a class=\"anchor\" id=\"4.2\"></a>"
   ]
  },
  {
   "cell_type": "markdown",
   "metadata": {},
   "source": [
    "Rescale pattern intensities to fill the entire data type range of the `uint16` data type"
   ]
  },
  {
   "cell_type": "code",
   "execution_count": 35,
   "metadata": {},
   "outputs": [
    {
     "name": "stdout",
     "output_type": "stream",
     "text": [
      "Rescaling the image intensities:\n",
      "[########################################] | 100% Completed |  2.8s\n"
     ]
    }
   ],
   "source": [
    "s.rescale_intensity(dtype_out=np.uint16)"
   ]
  },
  {
   "cell_type": "markdown",
   "metadata": {},
   "source": [
    "Inspect the rescaled patterns"
   ]
  },
  {
   "cell_type": "code",
   "execution_count": 36,
   "metadata": {},
   "outputs": [],
   "source": [
    "s.plot()"
   ]
  },
  {
   "cell_type": "markdown",
   "metadata": {},
   "source": [
    "Perform contrast stretching on a copy of the data"
   ]
  },
  {
   "cell_type": "code",
   "execution_count": 37,
   "metadata": {},
   "outputs": [],
   "source": [
    "s2 = s.deepcopy()  # Double the memory!"
   ]
  },
  {
   "cell_type": "code",
   "execution_count": 38,
   "metadata": {},
   "outputs": [
    {
     "name": "stdout",
     "output_type": "stream",
     "text": [
      "Rescaling the image intensities:\n",
      "[########################################] | 100% Completed | 10.7s\n"
     ]
    }
   ],
   "source": [
    "s2.rescale_intensity(percentiles=(0.5, 99.5))"
   ]
  },
  {
   "cell_type": "markdown",
   "metadata": {},
   "source": [
    "Compare the patterns before and after contrast stretching"
   ]
  },
  {
   "cell_type": "code",
   "execution_count": 39,
   "metadata": {},
   "outputs": [],
   "source": [
    "hs.plot.plot_signals([s, s2])"
   ]
  },
  {
   "cell_type": "markdown",
   "metadata": {},
   "source": [
    "## 4.C Filtering in the frequency domain <a class=\"anchor\" id=\"4.3\"></a>"
   ]
  },
  {
   "cell_type": "markdown",
   "metadata": {},
   "source": [
    "Create a Gaussian lowpass transfer function of pattern shape to remove high frequency components (noise) in the patterns"
   ]
  },
  {
   "cell_type": "code",
   "execution_count": 40,
   "metadata": {},
   "outputs": [],
   "source": [
    "pattern_shape = s.axes_manager.signal_shape"
   ]
  },
  {
   "cell_type": "code",
   "execution_count": 41,
   "metadata": {},
   "outputs": [
    {
     "data": {
      "text/plain": [
       "(60, 60)"
      ]
     },
     "execution_count": 41,
     "metadata": {},
     "output_type": "execute_result"
    }
   ],
   "source": [
    "pattern_shape"
   ]
  },
  {
   "cell_type": "code",
   "execution_count": 42,
   "metadata": {},
   "outputs": [],
   "source": [
    "w_low = kp.filters.Window(\n",
    "    window=\"lowpass\",\n",
    "    cutoff=22,\n",
    "    cutoff_width=10,\n",
    "    shape=pattern_shape\n",
    ")"
   ]
  },
  {
   "cell_type": "markdown",
   "metadata": {},
   "source": [
    "Inspect the filter"
   ]
  },
  {
   "cell_type": "code",
   "execution_count": 43,
   "metadata": {},
   "outputs": [
    {
     "data": {
      "text/plain": [
       "<matplotlib.image.AxesImage at 0x13b5ef0d0>"
      ]
     },
     "execution_count": 43,
     "metadata": {},
     "output_type": "execute_result"
    }
   ],
   "source": [
    "plt.figure()\n",
    "plt.imshow(w_low)"
   ]
  },
  {
   "cell_type": "markdown",
   "metadata": {},
   "source": [
    "Create a Gaussian highpass transfer function of pattern shape to remove low frequency components (large scale variations,\n",
    "a variant of dynamic background correction) in the pattern"
   ]
  },
  {
   "cell_type": "code",
   "execution_count": 44,
   "metadata": {},
   "outputs": [],
   "source": [
    "w_high = kp.filters.Window(\n",
    "    window=\"highpass\",\n",
    "    cutoff=3,\n",
    "    cutoff_width=2,\n",
    "    shape=pattern_shape\n",
    ")"
   ]
  },
  {
   "cell_type": "markdown",
   "metadata": {},
   "source": [
    "Inspect the filter"
   ]
  },
  {
   "cell_type": "code",
   "execution_count": 45,
   "metadata": {},
   "outputs": [
    {
     "data": {
      "text/plain": [
       "<matplotlib.image.AxesImage at 0x13d220910>"
      ]
     },
     "execution_count": 45,
     "metadata": {},
     "output_type": "execute_result"
    }
   ],
   "source": [
    "plt.figure()\n",
    "plt.imshow(w_high)"
   ]
  },
  {
   "cell_type": "markdown",
   "metadata": {},
   "source": [
    "Create a combined Gaussian high and low pass filter"
   ]
  },
  {
   "cell_type": "code",
   "execution_count": 46,
   "metadata": {},
   "outputs": [],
   "source": [
    "w = w_low * w_high"
   ]
  },
  {
   "cell_type": "markdown",
   "metadata": {},
   "source": [
    "Inspect the combined filter"
   ]
  },
  {
   "cell_type": "code",
   "execution_count": 47,
   "metadata": {},
   "outputs": [
    {
     "data": {
      "text/plain": [
       "<matplotlib.image.AxesImage at 0x1581e11c0>"
      ]
     },
     "execution_count": 47,
     "metadata": {},
     "output_type": "execute_result"
    }
   ],
   "source": [
    "plt.figure()\n",
    "plt.imshow(w)"
   ]
  },
  {
   "cell_type": "markdown",
   "metadata": {},
   "source": [
    "Apply the filter in the frequency domain on a copy of the data"
   ]
  },
  {
   "cell_type": "code",
   "execution_count": 48,
   "metadata": {},
   "outputs": [
    {
     "name": "stdout",
     "output_type": "stream",
     "text": [
      "FFT filtering:\n",
      "[########################################] | 100% Completed | 16.8s\n"
     ]
    }
   ],
   "source": [
    "s3 = s.deepcopy()\n",
    "\n",
    "s3.fft_filter(\n",
    "    transfer_function=w,\n",
    "    function_domain=\"frequency\",  # It is already a transfer function\n",
    "    shift=True,\n",
    ")"
   ]
  },
  {
   "cell_type": "markdown",
   "metadata": {},
   "source": [
    "Compare the patterns before and after FFT filtering"
   ]
  },
  {
   "cell_type": "code",
   "execution_count": 49,
   "metadata": {},
   "outputs": [],
   "source": [
    "hs.plot.plot_signals([s, s3])"
   ]
  },
  {
   "cell_type": "markdown",
   "metadata": {},
   "source": [
    "## 4.D Adaptive histogram equalization <a class=\"anchor\" id=\"4.4\"></a>"
   ]
  },
  {
   "cell_type": "markdown",
   "metadata": {},
   "source": [
    "Perform adaptive histogram equalization (like done in EMsoft's dictionary indexing program `EMEBSDDI`) on a copy of the data"
   ]
  },
  {
   "cell_type": "code",
   "execution_count": 50,
   "metadata": {},
   "outputs": [],
   "source": [
    "s4 = s.deepcopy()"
   ]
  },
  {
   "cell_type": "code",
   "execution_count": 51,
   "metadata": {},
   "outputs": [
    {
     "name": "stdout",
     "output_type": "stream",
     "text": [
      "Adaptive histogram equalization:\n",
      "[########################################] | 100% Completed |  3min 35.7s\n"
     ]
    }
   ],
   "source": [
    "s4.adaptive_histogram_equalization()"
   ]
  },
  {
   "cell_type": "markdown",
   "metadata": {},
   "source": [
    "Plot the two data sets before and after equalization side-by-side"
   ]
  },
  {
   "cell_type": "code",
   "execution_count": 52,
   "metadata": {},
   "outputs": [
    {
     "name": "stderr",
     "output_type": "stream",
     "text": [
      "Traceback (most recent call last):\n",
      "  File \"/usr/local/lib/python3.8/site-packages/matplotlib/cbook/__init__.py\", line 196, in process\n",
      "    func(*args, **kwargs)\n",
      "  File \"/usr/local/lib/python3.8/site-packages/hyperspy/drawing/utils.py\", line 172, in function_wrapper\n",
      "    function()\n",
      "  File \"/usr/local/lib/python3.8/site-packages/hyperspy/drawing/figure.py\", line 107, in _on_close\n",
      "    self.events.closed.trigger(obj=self)\n",
      "  File \"<string>\", line 4, in trigger\n",
      "  File \"/usr/local/lib/python3.8/site-packages/hyperspy/events.py\", line 402, in trigger\n",
      "    function(**{kw: kwargs.get(kw, None) for kw in kwsl})\n",
      "  File \"/usr/local/lib/python3.8/site-packages/hyperspy/signal.py\", line 2133, in <lambda>\n",
      "    lambda: self.events.data_changed.disconnect(self.update_plot),\n",
      "  File \"/usr/local/lib/python3.8/site-packages/hyperspy/events.py\", line 372, in disconnect\n",
      "    raise ValueError(\"The %s function is not connected to %s.\" %\n",
      "ValueError: The <bound method BaseSignal.update_plot of <EBSD, title: Recrystallized Ni, dimensions: (200, 149|60, 60)>> function is not connected to <hyperspy.events.Event: Event that triggers when the data has changed: {<bound method Interactive.update of <hyperspy.interactive.Interactive object at 0x13b5b2d00>>, <bound method Interactive.update of <hyperspy.interactive.Interactive object at 0x157a0db50>>, <bound method Interactive.update of <hyperspy.interactive.Interactive object at 0x13c4a1700>>, <bound method Interactive.update of <hyperspy.interactive.Interactive object at 0x13b5b2c70>>}>.\n",
      "Traceback (most recent call last):\n",
      "  File \"/usr/local/lib/python3.8/site-packages/matplotlib/cbook/__init__.py\", line 196, in process\n",
      "    func(*args, **kwargs)\n",
      "  File \"/usr/local/lib/python3.8/site-packages/hyperspy/drawing/utils.py\", line 172, in function_wrapper\n",
      "    function()\n",
      "  File \"/usr/local/lib/python3.8/site-packages/hyperspy/drawing/figure.py\", line 107, in _on_close\n",
      "    self.events.closed.trigger(obj=self)\n",
      "  File \"<string>\", line 4, in trigger\n",
      "  File \"/usr/local/lib/python3.8/site-packages/hyperspy/events.py\", line 402, in trigger\n",
      "    function(**{kw: kwargs.get(kw, None) for kw in kwsl})\n",
      "  File \"/usr/local/lib/python3.8/site-packages/hyperspy/signal.py\", line 2133, in <lambda>\n",
      "    lambda: self.events.data_changed.disconnect(self.update_plot),\n",
      "  File \"/usr/local/lib/python3.8/site-packages/hyperspy/events.py\", line 372, in disconnect\n",
      "    raise ValueError(\"The %s function is not connected to %s.\" %\n",
      "ValueError: The <bound method BaseSignal.update_plot of <EBSD, title: Recrystallized Ni, dimensions: (200, 149|60, 60)>> function is not connected to <hyperspy.events.Event: Event that triggers when the data has changed: {<bound method Interactive.update of <hyperspy.interactive.Interactive object at 0x13b5b2d00>>, <bound method Interactive.update of <hyperspy.interactive.Interactive object at 0x157a0db50>>, <bound method Interactive.update of <hyperspy.interactive.Interactive object at 0x13c4a1700>>, <bound method Interactive.update of <hyperspy.interactive.Interactive object at 0x13b5b2c70>>}>.\n"
     ]
    }
   ],
   "source": [
    "hs.plot.plot_signals([s, s4])"
   ]
  },
  {
   "cell_type": "code",
   "execution_count": null,
   "metadata": {},
   "outputs": [],
   "source": []
  }
 ],
 "metadata": {
  "kernelspec": {
   "display_name": "Python 3",
   "language": "python",
   "name": "python3"
  },
  "language_info": {
   "codemirror_mode": {
    "name": "ipython",
    "version": 3
   },
   "file_extension": ".py",
   "mimetype": "text/x-python",
   "name": "python",
   "nbconvert_exporter": "python",
   "pygments_lexer": "ipython3",
   "version": "3.8.3"
  }
 },
 "nbformat": 4,
 "nbformat_minor": 4
}
